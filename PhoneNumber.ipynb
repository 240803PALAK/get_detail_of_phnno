{
 "cells": [
  {
   "cell_type": "code",
   "execution_count": 4,
   "id": "1949d9dc-c636-426d-81f7-6110a038f331",
   "metadata": {},
   "outputs": [],
   "source": [
    "import phonenumbers"
   ]
  },
  {
   "cell_type": "code",
   "execution_count": 5,
   "id": "e2a9fb9c-7533-41bc-8c01-2c0f011196c6",
   "metadata": {},
   "outputs": [],
   "source": [
    "from phonenumbers import timezone,geocoder,carrier"
   ]
  },
  {
   "cell_type": "code",
   "execution_count": 16,
   "id": "7a73f46d-3c89-4dca-a570-abf952a53c0d",
   "metadata": {},
   "outputs": [
    {
     "name": "stdin",
     "output_type": "stream",
     "text": [
      "Enter your no. with (+_ _):  +918751642352\n"
     ]
    },
    {
     "name": "stdout",
     "output_type": "stream",
     "text": [
      "Country Code: 91 National Number: 8751642352\n",
      "Time Zone: ('Asia/Calcutta',)\n",
      "Carrier: Aircel\n",
      "Registration: Boath/Echoda, Andhra Pradesh\n"
     ]
    }
   ],
   "source": [
    "number=input(\"Enter your no. with (+_ _): \")\n",
    "phone=phonenumbers.parse(number)\n",
    "time=timezone.time_zones_for_number(phone)\n",
    "car=carrier.name_for_number(phone,\"en\")\n",
    "reg=geocoder.description_for_number(phone,\"en\")\n",
    "print(phone)\n",
    "print(f\"Time Zone: {time}\")\n",
    "print(f\"Carrier: {car}\")\n",
    "print(f\"Registration: {reg}\")"
   ]
  },
  {
   "cell_type": "code",
   "execution_count": null,
   "id": "61b2e750-42e1-41ed-8761-28fe2462d33c",
   "metadata": {},
   "outputs": [],
   "source": []
  }
 ],
 "metadata": {
  "kernelspec": {
   "display_name": "Python 3 (ipykernel)",
   "language": "python",
   "name": "python3"
  },
  "language_info": {
   "codemirror_mode": {
    "name": "ipython",
    "version": 3
   },
   "file_extension": ".py",
   "mimetype": "text/x-python",
   "name": "python",
   "nbconvert_exporter": "python",
   "pygments_lexer": "ipython3",
   "version": "3.12.0"
  }
 },
 "nbformat": 4,
 "nbformat_minor": 5
}
